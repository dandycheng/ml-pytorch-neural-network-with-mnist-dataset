{
  "nbformat": 4,
  "nbformat_minor": 0,
  "metadata": {
    "colab": {
      "name": "ml-pytorch-neural-network-with-mnist-dataset.ipynb",
      "provenance": [],
      "collapsed_sections": []
    },
    "kernelspec": {
      "name": "python3",
      "display_name": "Python 3"
    },
    "accelerator": "GPU"
  },
  "cells": [
    {
      "cell_type": "code",
      "metadata": {
        "id": "DdxyhAKEAkSv"
      },
      "source": [
        "import torch\n",
        "from torch import nn,optim\n",
        "from torchvision import datasets,transforms\n",
        "from torch.utils.data import Dataset,DataLoader\n",
        "from keras.datasets import mnist\n",
        "import matplotlib.pyplot as plt\n",
        "import pandas as pd"
      ],
      "execution_count": 1,
      "outputs": []
    },
    {
      "cell_type": "code",
      "metadata": {
        "id": "TtUYPjsYHTSu",
        "colab": {
          "base_uri": "https://localhost:8080/"
        },
        "outputId": "af99f8b3-2738-4b69-a657-7f6b09293cb5"
      },
      "source": [
        "# Load the MNIST dataset\n",
        "(train_x,train_y),(test_x,test_y) = mnist.load_data()\n",
        "train_x = train_x.reshape(60000,784)\n",
        "test_x = test_x.reshape(10000,784)"
      ],
      "execution_count": 2,
      "outputs": [
        {
          "output_type": "stream",
          "text": [
            "Downloading data from https://storage.googleapis.com/tensorflow/tf-keras-datasets/mnist.npz\n",
            "11493376/11490434 [==============================] - 0s 0us/step\n"
          ],
          "name": "stdout"
        }
      ]
    },
    {
      "cell_type": "code",
      "metadata": {
        "id": "VNf3ph3mH7Ij"
      },
      "source": [
        "# Create dataset class by inheriting the Dataset module from torch.utils.data\n",
        "\n",
        "class Data(Dataset):\n",
        "    def __init__(self,X,Y):\n",
        "        super(Data,self).__init__()\n",
        "        self.X = torch.tensor(X,dtype=torch.float)\n",
        "        self.Y = torch.tensor(Y,dtype=torch.long)\n",
        "\n",
        "    def __getitem__(self,i):\n",
        "        return self.X[i],self.Y[i]\n",
        "    \n",
        "    def __len__(self):\n",
        "        return len(self.X)"
      ],
      "execution_count": 3,
      "outputs": []
    },
    {
      "cell_type": "code",
      "metadata": {
        "id": "N_nEtfslIyyG"
      },
      "source": [
        "# Create the neural network from scratch by inheriting torch.nn.Module\n",
        "\n",
        "class Net(nn.Module):\n",
        "    def __init__(self,layers):\n",
        "        super(Net,self).__init__()\n",
        "        self.linear = nn.ModuleList(layers)\n",
        "        self.criterion = nn.CrossEntropyLoss()\n",
        "\n",
        "    def forward(self,x):\n",
        "        for layer in self.linear:\n",
        "            x = layer(x)\n",
        "\n",
        "        return x"
      ],
      "execution_count": 4,
      "outputs": []
    },
    {
      "cell_type": "code",
      "metadata": {
        "id": "eDq1MdrAOLCM"
      },
      "source": [
        "def train(model,epochs,train_loader):\n",
        "    global loss_hist\n",
        "    for n in range(epochs):\n",
        "        for x,y in train_loader.dataset:\n",
        "            yhat = model.forward(x)\n",
        "\n",
        "            # Increase dimensions to use cross entropy loss\n",
        "            yhat = torch.unsqueeze(yhat,0)\n",
        "            y = torch.unsqueeze(y,0)\n",
        "\n",
        "            # Calculate the loss and propagate the error backwards\n",
        "            loss = model.criterion(yhat,y)\n",
        "            loss.backward()\n",
        "            loss_hist.append(loss)\n",
        "\n",
        "            # Take a gradient descent step with the optimization algorithm\n",
        "            optimizer.step()\n",
        "            optimizer.zero_grad()"
      ],
      "execution_count": 5,
      "outputs": []
    },
    {
      "cell_type": "code",
      "metadata": {
        "id": "DymTWFHUAoue"
      },
      "source": [
        "def calcAccuracy(model,dataset,m):\n",
        "    acc = 0\n",
        "    for x,y in dataset:\n",
        "        yhat = model(x)\n",
        "        if torch.argmax(yhat) == y:\n",
        "            acc += 1\n",
        "\n",
        "    return acc / m * 100"
      ],
      "execution_count": 56,
      "outputs": []
    },
    {
      "cell_type": "code",
      "metadata": {
        "id": "9RN8EbGkUX-U"
      },
      "source": [
        "def showImg(tensor):\n",
        "    plt.imshow(tensor.reshape(28,28))"
      ],
      "execution_count": 43,
      "outputs": []
    },
    {
      "cell_type": "code",
      "metadata": {
        "id": "z84nNaN1MAzV"
      },
      "source": [
        "lr = 1e-4\n",
        "model = Net([\n",
        "    nn.Linear(784,70),\n",
        "    nn.Tanh(),\n",
        "    nn.Linear(70,10)\n",
        "])\n",
        "\n",
        "optimizer = optim.Adam(model.parameters(),lr)\n",
        "loss_hist = []"
      ],
      "execution_count": 14,
      "outputs": []
    },
    {
      "cell_type": "code",
      "metadata": {
        "id": "KZSTPo31IUVf"
      },
      "source": [
        "train_data = Data(train_x,train_y)\n",
        "test_data = Data(test_x,test_y)\n",
        "\n",
        "# Create batches with the DataLoader module from torch.utils.data\n",
        "test_loader = DataLoader(test_data,batch_size=100)\n",
        "train_loader = DataLoader(train_data,batch_size=50)"
      ],
      "execution_count": 35,
      "outputs": []
    },
    {
      "cell_type": "code",
      "metadata": {
        "id": "t8ldWOgwN6X4"
      },
      "source": [
        "# Train the model\n",
        "train(model,5,train_loader)"
      ],
      "execution_count": 36,
      "outputs": []
    },
    {
      "cell_type": "code",
      "metadata": {
        "colab": {
          "base_uri": "https://localhost:8080/"
        },
        "id": "DG5MLoyNEGZK",
        "outputId": "8b5a77ed-43ff-487e-b047-2282dd206f45"
      },
      "source": [
        "# Calculate model accuracy\n",
        "print(f'Train accuracy: {calcAccuracy(model,train_loader.dataset,60000)}%')\n",
        "print(f'Test accuracy: {calcAccuracy(model,test_loader.dataset,10000)}%')"
      ],
      "execution_count": 57,
      "outputs": [
        {
          "output_type": "stream",
          "text": [
            "Train accuracy: 93.29166666666666%\n",
            "Test accuracy: 93.28999999999999%\n"
          ],
          "name": "stdout"
        }
      ]
    },
    {
      "cell_type": "code",
      "metadata": {
        "colab": {
          "base_uri": "https://localhost:8080/",
          "height": 295
        },
        "id": "TPm3fWf5SPTF",
        "outputId": "ec193dbc-378a-41fc-afa4-e8da8b71da09"
      },
      "source": [
        "# Plot the loss\n",
        "\n",
        "plt.xlabel('Iterations')\n",
        "plt.ylabel('Loss')\n",
        "plt.title('Loss')\n",
        "plt.plot(loss_hist)\n",
        "plt.show()"
      ],
      "execution_count": 42,
      "outputs": [
        {
          "output_type": "display_data",
          "data": {
            "image/png": "[encoded data removed]",
            "text/plain": [
              "<Figure size 432x288 with 1 Axes>"
            ]
          },
          "metadata": {
            "tags": [],
            "needs_background": "light"
          }
        }
      ]
    },
    {
      "cell_type": "markdown",
      "metadata": {
        "id": "5TLBzRv7V6xO"
      },
      "source": [
        "Let's try to make a prediction with the trained model:"
      ]
    },
    {
      "cell_type": "code",
      "metadata": {
        "id": "Lkern_oYXhPf"
      },
      "source": [
        "x_,y_ = train_loader.dataset[2]"
      ],
      "execution_count": null,
      "outputs": []
    },
    {
      "cell_type": "code",
      "metadata": {
        "colab": {
          "base_uri": "https://localhost:8080/",
          "height": 337
        },
        "id": "rblMLu04OLbE",
        "outputId": "d6716cd0-fb2f-4848-c27f-808d8ef08035"
      },
      "source": [
        "print(f\"Label predicted (Yhat): {torch.argmax(model(x_))}\\n\")\n",
        "print(\"Expected prediction (Y): \\n\")\n",
        "showImg(x_)"
      ],
      "execution_count": 53,
      "outputs": [
        {
          "output_type": "stream",
          "text": [
            "Label predicted (Yhat): 4\n",
            "\n",
            "Expected prediction (Y): \n",
            "\n"
          ],
          "name": "stdout"
        },
        {
          "output_type": "display_data",
          "data": {
            "image/png": "[encoded data removed]",
            "text/plain": [
              "<Figure size 432x288 with 1 Axes>"
            ]
          },
          "metadata": {
            "tags": [],
            "needs_background": "light"
          }
        }
      ]
    }
  ]
}